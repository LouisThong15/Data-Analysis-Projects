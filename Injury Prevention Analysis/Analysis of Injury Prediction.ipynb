{
 "cells": [
  {
   "cell_type": "markdown",
   "id": "fc235b5a",
   "metadata": {},
   "source": [
    "# Analysis of Injury Prediction Dataset\n",
    "\n",
    "This project focuses on creating a realistic representation of player health and injury data. The synthetic dataset captures critical attributes such as player demographics, training intensities, recovery times, and previous injury histories.\n",
    "\n",
    "The dataset was cleaned and preprocessed for ease of analysis and is available under an open license for research and data analysis purposes. The dataset is provided by a user from Kaggle (https://www.kaggle.com/datasets/mrsimple07/injury-prediction-dataset). We will be using Python to analyze the dataset and a series of visualisations such as pandas, seaborn, matplotlib and SciPy libraries to answer the following questions:\n",
    "\n",
    "1. Does age increase the likelihood of an injury?\n",
    "2. Are the difference between previous injuries and likelihood of injuries significant?\n",
    "3. How do previous injuries affect recovery time?\n",
    "4. Are players with high intensity training more likely to have further injuries?"
   ]
  },
  {
   "cell_type": "markdown",
   "id": "e2462ad6",
   "metadata": {},
   "source": [
    "## Import Libraries"
   ]
  },
  {
   "cell_type": "code",
   "execution_count": 213,
   "id": "4d681fba",
   "metadata": {},
   "outputs": [],
   "source": [
    "import numpy as np\n",
    "import seaborn as sns\n",
    "import warnings\n",
    "warnings.simplefilter(action='ignore', category=FutureWarning)\n",
    "import pandas as pd\n",
    "from matplotlib import pyplot as plt \n",
    "from scipy.stats import pearsonr\n",
    "from scipy.stats import chi2_contingency\n",
    "\n",
    "injury = pd.read_csv('injury_data.csv')"
   ]
  },
  {
   "cell_type": "markdown",
   "id": "8c5b7ce8",
   "metadata": {},
   "source": [
    "## Load and Inspect Data"
   ]
  },
  {
   "cell_type": "code",
   "execution_count": 214,
   "id": "e288577f",
   "metadata": {},
   "outputs": [
    {
     "name": "stdout",
     "output_type": "stream",
     "text": [
      "<class 'pandas.core.frame.DataFrame'>\n",
      "RangeIndex: 1000 entries, 0 to 999\n",
      "Data columns (total 7 columns):\n",
      " #   Column                Non-Null Count  Dtype  \n",
      "---  ------                --------------  -----  \n",
      " 0   Player_Age            1000 non-null   int64  \n",
      " 1   Player_Weight         1000 non-null   float64\n",
      " 2   Player_Height         1000 non-null   float64\n",
      " 3   Previous_Injuries     1000 non-null   int64  \n",
      " 4   Training_Intensity    1000 non-null   float64\n",
      " 5   Recovery_Time         1000 non-null   int64  \n",
      " 6   Likelihood_of_Injury  1000 non-null   int64  \n",
      "dtypes: float64(3), int64(4)\n",
      "memory usage: 54.8 KB\n"
     ]
    },
    {
     "data": {
      "text/html": [
       "<div>\n",
       "<style scoped>\n",
       "    .dataframe tbody tr th:only-of-type {\n",
       "        vertical-align: middle;\n",
       "    }\n",
       "\n",
       "    .dataframe tbody tr th {\n",
       "        vertical-align: top;\n",
       "    }\n",
       "\n",
       "    .dataframe thead th {\n",
       "        text-align: right;\n",
       "    }\n",
       "</style>\n",
       "<table border=\"1\" class=\"dataframe\">\n",
       "  <thead>\n",
       "    <tr style=\"text-align: right;\">\n",
       "      <th></th>\n",
       "      <th>Player_Age</th>\n",
       "      <th>Player_Weight</th>\n",
       "      <th>Player_Height</th>\n",
       "      <th>Previous_Injuries</th>\n",
       "      <th>Training_Intensity</th>\n",
       "      <th>Recovery_Time</th>\n",
       "      <th>Likelihood_of_Injury</th>\n",
       "    </tr>\n",
       "  </thead>\n",
       "  <tbody>\n",
       "    <tr>\n",
       "      <th>0</th>\n",
       "      <td>24</td>\n",
       "      <td>66.251933</td>\n",
       "      <td>175.732429</td>\n",
       "      <td>1</td>\n",
       "      <td>0.457929</td>\n",
       "      <td>5</td>\n",
       "      <td>0</td>\n",
       "    </tr>\n",
       "    <tr>\n",
       "      <th>1</th>\n",
       "      <td>37</td>\n",
       "      <td>70.996271</td>\n",
       "      <td>174.581650</td>\n",
       "      <td>0</td>\n",
       "      <td>0.226522</td>\n",
       "      <td>6</td>\n",
       "      <td>1</td>\n",
       "    </tr>\n",
       "    <tr>\n",
       "      <th>2</th>\n",
       "      <td>32</td>\n",
       "      <td>80.093781</td>\n",
       "      <td>186.329618</td>\n",
       "      <td>0</td>\n",
       "      <td>0.613970</td>\n",
       "      <td>2</td>\n",
       "      <td>1</td>\n",
       "    </tr>\n",
       "    <tr>\n",
       "      <th>3</th>\n",
       "      <td>28</td>\n",
       "      <td>87.473271</td>\n",
       "      <td>175.504240</td>\n",
       "      <td>1</td>\n",
       "      <td>0.252858</td>\n",
       "      <td>4</td>\n",
       "      <td>1</td>\n",
       "    </tr>\n",
       "    <tr>\n",
       "      <th>4</th>\n",
       "      <td>25</td>\n",
       "      <td>84.659220</td>\n",
       "      <td>190.175012</td>\n",
       "      <td>0</td>\n",
       "      <td>0.577632</td>\n",
       "      <td>1</td>\n",
       "      <td>1</td>\n",
       "    </tr>\n",
       "  </tbody>\n",
       "</table>\n",
       "</div>"
      ],
      "text/plain": [
       "   Player_Age  Player_Weight  Player_Height  Previous_Injuries  \\\n",
       "0          24      66.251933     175.732429                  1   \n",
       "1          37      70.996271     174.581650                  0   \n",
       "2          32      80.093781     186.329618                  0   \n",
       "3          28      87.473271     175.504240                  1   \n",
       "4          25      84.659220     190.175012                  0   \n",
       "\n",
       "   Training_Intensity  Recovery_Time  Likelihood_of_Injury  \n",
       "0            0.457929              5                     0  \n",
       "1            0.226522              6                     1  \n",
       "2            0.613970              2                     1  \n",
       "3            0.252858              4                     1  \n",
       "4            0.577632              1                     1  "
      ]
     },
     "execution_count": 214,
     "metadata": {},
     "output_type": "execute_result"
    }
   ],
   "source": [
    "injury.info()\n",
    "injury.head()"
   ]
  },
  {
   "cell_type": "markdown",
   "id": "d3618ca7",
   "metadata": {},
   "source": [
    "The dataset contains 1000 rows and 7 columns containing information on sports athletes. Fortunately, it seems that none of the columns have any null values.\n",
    "\n",
    "Here's a quick summary of the columns:\n",
    "\n",
    "- **Player_Age**: Age of the player in years.\n",
    "- **Player_Weight**: Weight of the player in kilograms, following a normal distribution.\n",
    "- **Player_Height**: Height of the player in centimeters, following a normal distribution.\n",
    "- **Previous_Injuries**: Binary indicator (0 or 1) representing whether the player has had previous injuries (1) or not (0).\n",
    "- **Training_Intensity**: A value between 0 and 1 representing the intensity of the player's training regimen.\n",
    "- **Recovery_Time**: Number of days required for the player to recover from an injury, ranging from 1 to 6 days.\n",
    "- **Likelihood_of_Injury**: Binary indicator (0 or 1) representing the likelihood of the player experiencing an injury (1) or not (0)."
   ]
  },
  {
   "cell_type": "code",
   "execution_count": 215,
   "id": "4a3d92ff",
   "metadata": {},
   "outputs": [
    {
     "data": {
      "text/html": [
       "<div>\n",
       "<style scoped>\n",
       "    .dataframe tbody tr th:only-of-type {\n",
       "        vertical-align: middle;\n",
       "    }\n",
       "\n",
       "    .dataframe tbody tr th {\n",
       "        vertical-align: top;\n",
       "    }\n",
       "\n",
       "    .dataframe thead th {\n",
       "        text-align: right;\n",
       "    }\n",
       "</style>\n",
       "<table border=\"1\" class=\"dataframe\">\n",
       "  <thead>\n",
       "    <tr style=\"text-align: right;\">\n",
       "      <th></th>\n",
       "      <th>Player_Age</th>\n",
       "      <th>Player_Weight</th>\n",
       "      <th>Player_Height</th>\n",
       "      <th>Previous_Injuries</th>\n",
       "      <th>Training_Intensity</th>\n",
       "      <th>Recovery_Time</th>\n",
       "      <th>Likelihood_of_Injury</th>\n",
       "    </tr>\n",
       "  </thead>\n",
       "  <tbody>\n",
       "    <tr>\n",
       "      <th>count</th>\n",
       "      <td>1000.000000</td>\n",
       "      <td>1000.000000</td>\n",
       "      <td>1000.000000</td>\n",
       "      <td>1000.000000</td>\n",
       "      <td>1000.000000</td>\n",
       "      <td>1000.000000</td>\n",
       "      <td>1000.00000</td>\n",
       "    </tr>\n",
       "    <tr>\n",
       "      <th>mean</th>\n",
       "      <td>28.231000</td>\n",
       "      <td>74.794351</td>\n",
       "      <td>179.750948</td>\n",
       "      <td>0.515000</td>\n",
       "      <td>0.490538</td>\n",
       "      <td>3.466000</td>\n",
       "      <td>0.50000</td>\n",
       "    </tr>\n",
       "    <tr>\n",
       "      <th>std</th>\n",
       "      <td>6.538378</td>\n",
       "      <td>9.892621</td>\n",
       "      <td>9.888921</td>\n",
       "      <td>0.500025</td>\n",
       "      <td>0.286184</td>\n",
       "      <td>1.701099</td>\n",
       "      <td>0.50025</td>\n",
       "    </tr>\n",
       "    <tr>\n",
       "      <th>min</th>\n",
       "      <td>18.000000</td>\n",
       "      <td>40.191912</td>\n",
       "      <td>145.285701</td>\n",
       "      <td>0.000000</td>\n",
       "      <td>0.000031</td>\n",
       "      <td>1.000000</td>\n",
       "      <td>0.00000</td>\n",
       "    </tr>\n",
       "    <tr>\n",
       "      <th>25%</th>\n",
       "      <td>22.000000</td>\n",
       "      <td>67.944028</td>\n",
       "      <td>173.036976</td>\n",
       "      <td>0.000000</td>\n",
       "      <td>0.241042</td>\n",
       "      <td>2.000000</td>\n",
       "      <td>0.00000</td>\n",
       "    </tr>\n",
       "    <tr>\n",
       "      <th>50%</th>\n",
       "      <td>28.000000</td>\n",
       "      <td>75.020569</td>\n",
       "      <td>180.034436</td>\n",
       "      <td>1.000000</td>\n",
       "      <td>0.483912</td>\n",
       "      <td>4.000000</td>\n",
       "      <td>0.50000</td>\n",
       "    </tr>\n",
       "    <tr>\n",
       "      <th>75%</th>\n",
       "      <td>34.000000</td>\n",
       "      <td>81.302956</td>\n",
       "      <td>186.557913</td>\n",
       "      <td>1.000000</td>\n",
       "      <td>0.730404</td>\n",
       "      <td>5.000000</td>\n",
       "      <td>1.00000</td>\n",
       "    </tr>\n",
       "    <tr>\n",
       "      <th>max</th>\n",
       "      <td>39.000000</td>\n",
       "      <td>104.650104</td>\n",
       "      <td>207.308672</td>\n",
       "      <td>1.000000</td>\n",
       "      <td>0.997749</td>\n",
       "      <td>6.000000</td>\n",
       "      <td>1.00000</td>\n",
       "    </tr>\n",
       "  </tbody>\n",
       "</table>\n",
       "</div>"
      ],
      "text/plain": [
       "        Player_Age  Player_Weight  Player_Height  Previous_Injuries  \\\n",
       "count  1000.000000    1000.000000    1000.000000        1000.000000   \n",
       "mean     28.231000      74.794351     179.750948           0.515000   \n",
       "std       6.538378       9.892621       9.888921           0.500025   \n",
       "min      18.000000      40.191912     145.285701           0.000000   \n",
       "25%      22.000000      67.944028     173.036976           0.000000   \n",
       "50%      28.000000      75.020569     180.034436           1.000000   \n",
       "75%      34.000000      81.302956     186.557913           1.000000   \n",
       "max      39.000000     104.650104     207.308672           1.000000   \n",
       "\n",
       "       Training_Intensity  Recovery_Time  Likelihood_of_Injury  \n",
       "count         1000.000000    1000.000000            1000.00000  \n",
       "mean             0.490538       3.466000               0.50000  \n",
       "std              0.286184       1.701099               0.50025  \n",
       "min              0.000031       1.000000               0.00000  \n",
       "25%              0.241042       2.000000               0.00000  \n",
       "50%              0.483912       4.000000               0.50000  \n",
       "75%              0.730404       5.000000               1.00000  \n",
       "max              0.997749       6.000000               1.00000  "
      ]
     },
     "execution_count": 215,
     "metadata": {},
     "output_type": "execute_result"
    }
   ],
   "source": [
    "injury.describe(include = 'all')"
   ]
  },
  {
   "cell_type": "markdown",
   "id": "686b1596",
   "metadata": {},
   "source": [
    "## Data Cleaning and Preparation"
   ]
  },
  {
   "cell_type": "markdown",
   "id": "bf8d868e",
   "metadata": {},
   "source": [
    "First, we will rename the columns 'Player_Age', 'Player_Weight' and 'Player_Height' for easier referencing. "
   ]
  },
  {
   "cell_type": "code",
   "execution_count": 216,
   "id": "10a5c351",
   "metadata": {},
   "outputs": [],
   "source": [
    "injury.rename(columns = {'Player_Age':'Age', 'Player_Weight':'Weight', 'Player_Height':'Height'}, inplace = True)"
   ]
  },
  {
   "cell_type": "markdown",
   "id": "38925b6f",
   "metadata": {},
   "source": [
    "Then, we will round of the numerical values in the columns to 3 decimal places. We will also convert the values in the 'Training_Intensity' column into percentage as it is a better metric for intensity."
   ]
  },
  {
   "cell_type": "code",
   "execution_count": 217,
   "id": "7e39e86e",
   "metadata": {},
   "outputs": [],
   "source": [
    "# Cleaning data\n",
    "def clean_df_text(df):\n",
    "    for column in df.columns:\n",
    "        if df[column].dtype == 'float64':\n",
    "            df[column] = df[column].round(3)      \n",
    "    return df\n",
    "\n",
    "injury['Training_Intensity'] = injury['Training_Intensity']*100"
   ]
  },
  {
   "cell_type": "markdown",
   "id": "2f890799",
   "metadata": {},
   "source": [
    "The values in the 'Previous_Injuries' and 'Likelihood_of_Injury' column are replaced with 'Yes' and 'No' for easier understanding. "
   ]
  },
  {
   "cell_type": "code",
   "execution_count": 218,
   "id": "0d011f2f",
   "metadata": {},
   "outputs": [],
   "source": [
    "injury.Previous_Injuries.replace(1, 'Yes', inplace = True)\n",
    "injury.Previous_Injuries.replace(0, 'No', inplace = True)\n",
    "injury.Likelihood_of_Injury.replace(1, 'Yes', inplace = True)\n",
    "injury.Likelihood_of_Injury.replace(0, 'No', inplace = True)"
   ]
  },
  {
   "cell_type": "code",
   "execution_count": 219,
   "id": "9484414c",
   "metadata": {},
   "outputs": [
    {
     "data": {
      "text/html": [
       "<div>\n",
       "<style scoped>\n",
       "    .dataframe tbody tr th:only-of-type {\n",
       "        vertical-align: middle;\n",
       "    }\n",
       "\n",
       "    .dataframe tbody tr th {\n",
       "        vertical-align: top;\n",
       "    }\n",
       "\n",
       "    .dataframe thead th {\n",
       "        text-align: right;\n",
       "    }\n",
       "</style>\n",
       "<table border=\"1\" class=\"dataframe\">\n",
       "  <thead>\n",
       "    <tr style=\"text-align: right;\">\n",
       "      <th></th>\n",
       "      <th>Age</th>\n",
       "      <th>Weight</th>\n",
       "      <th>Height</th>\n",
       "      <th>Previous_Injuries</th>\n",
       "      <th>Training_Intensity</th>\n",
       "      <th>Recovery_Time</th>\n",
       "      <th>Likelihood_of_Injury</th>\n",
       "    </tr>\n",
       "  </thead>\n",
       "  <tbody>\n",
       "    <tr>\n",
       "      <th>0</th>\n",
       "      <td>24</td>\n",
       "      <td>66.252</td>\n",
       "      <td>175.732</td>\n",
       "      <td>Yes</td>\n",
       "      <td>45.793</td>\n",
       "      <td>5</td>\n",
       "      <td>No</td>\n",
       "    </tr>\n",
       "    <tr>\n",
       "      <th>1</th>\n",
       "      <td>37</td>\n",
       "      <td>70.996</td>\n",
       "      <td>174.582</td>\n",
       "      <td>No</td>\n",
       "      <td>22.652</td>\n",
       "      <td>6</td>\n",
       "      <td>Yes</td>\n",
       "    </tr>\n",
       "    <tr>\n",
       "      <th>2</th>\n",
       "      <td>32</td>\n",
       "      <td>80.094</td>\n",
       "      <td>186.330</td>\n",
       "      <td>No</td>\n",
       "      <td>61.397</td>\n",
       "      <td>2</td>\n",
       "      <td>Yes</td>\n",
       "    </tr>\n",
       "    <tr>\n",
       "      <th>3</th>\n",
       "      <td>28</td>\n",
       "      <td>87.473</td>\n",
       "      <td>175.504</td>\n",
       "      <td>Yes</td>\n",
       "      <td>25.286</td>\n",
       "      <td>4</td>\n",
       "      <td>Yes</td>\n",
       "    </tr>\n",
       "    <tr>\n",
       "      <th>4</th>\n",
       "      <td>25</td>\n",
       "      <td>84.659</td>\n",
       "      <td>190.175</td>\n",
       "      <td>No</td>\n",
       "      <td>57.763</td>\n",
       "      <td>1</td>\n",
       "      <td>Yes</td>\n",
       "    </tr>\n",
       "  </tbody>\n",
       "</table>\n",
       "</div>"
      ],
      "text/plain": [
       "   Age  Weight   Height Previous_Injuries  Training_Intensity  Recovery_Time  \\\n",
       "0   24  66.252  175.732               Yes              45.793              5   \n",
       "1   37  70.996  174.582                No              22.652              6   \n",
       "2   32  80.094  186.330                No              61.397              2   \n",
       "3   28  87.473  175.504               Yes              25.286              4   \n",
       "4   25  84.659  190.175                No              57.763              1   \n",
       "\n",
       "  Likelihood_of_Injury  \n",
       "0                   No  \n",
       "1                  Yes  \n",
       "2                  Yes  \n",
       "3                  Yes  \n",
       "4                  Yes  "
      ]
     },
     "execution_count": 219,
     "metadata": {},
     "output_type": "execute_result"
    }
   ],
   "source": [
    "clean_df_text(injury)\n",
    "injury.head()"
   ]
  },
  {
   "cell_type": "markdown",
   "id": "a9d744e6",
   "metadata": {},
   "source": [
    "## Data Question 1: Does age increase the likelihood of an injury?"
   ]
  },
  {
   "cell_type": "code",
   "execution_count": 220,
   "id": "5de46685",
   "metadata": {},
   "outputs": [
    {
     "data": {
      "image/png": "[encoded data removed]",
      "text/plain": [
       "<Figure size 640x480 with 1 Axes>"
      ]
     },
     "metadata": {},
     "output_type": "display_data"
    }
   ],
   "source": [
    "# Plotting distribution of Age\n",
    "sns.histplot(data = injury, x = 'Age')\n",
    "plt.ylabel('Frequency')\n",
    "plt.title('Distribution of Age')\n",
    "plt.show()"
   ]
  },
  {
   "cell_type": "markdown",
   "id": "fd2e9374",
   "metadata": {},
   "source": [
    "The distribution of age in this dataset is between 18 to 39 years old. Most players are within the age group by 18 to 25. "
   ]
  },
  {
   "cell_type": "code",
   "execution_count": 221,
   "id": "dd58c24c",
   "metadata": {},
   "outputs": [
    {
     "data": {
      "image/png": "[encoded data removed]",
      "text/plain": [
       "<Figure size 640x480 with 1 Axes>"
      ]
     },
     "metadata": {},
     "output_type": "display_data"
    }
   ],
   "source": [
    "# Plotting bar chart for recovery time against age\n",
    "sns.barplot(data = injury, x = 'Age', y = 'Recovery_Time', ci = None)\n",
    "plt.title('Average Recovery Time of Players with Different Ages')\n",
    "plt.ylabel('Recovery Time (days)')\n",
    "plt.ylim((0,4.5))\n",
    "plt.show()"
   ]
  },
  {
   "cell_type": "markdown",
   "id": "f7606529",
   "metadata": {},
   "source": [
    "The graph above does not indicate any obvious trend between age and recovery time. Recovery time seems to fluctuate on average between the ages of 18 and 39. The average recovery time peaks at two ages; 26 and 39 year old. However, this is not enough evidence to suggest that recovery time is the highest at these ages. "
   ]
  },
  {
   "cell_type": "markdown",
   "id": "43698367",
   "metadata": {},
   "source": [
    "## Data Question 2: Are the difference between previous injuries and likelihood of injuries significant?"
   ]
  },
  {
   "cell_type": "markdown",
   "id": "12a7e272",
   "metadata": {},
   "source": [
    "This section will run a chi-squared test to see if players with and without previous injuries have statistically significant differences in the likelihood of further injuries. In order to run a chi squared test, a contingency table will need to be created. The contingency table should look like this:"
   ]
  },
  {
   "cell_type": "markdown",
   "id": "b05d1a49",
   "metadata": {},
   "source": [
    "||Likely of Injury|Unlikely of Injury|\n",
    "|-|-|-|\n",
    "|Previous Injuries|?|?|\n",
    "|No Previous Injuries|?|?|"
   ]
  },
  {
   "cell_type": "code",
   "execution_count": 222,
   "id": "dba87044",
   "metadata": {},
   "outputs": [],
   "source": [
    "# Creating list for previous injury and likelihood of injury\n",
    "prev_inj = [0,0]\n",
    "no_prev_inj = [0,0]\n",
    "\n",
    "for i in range(0, len(injury)):\n",
    "    if injury.Previous_Injuries[i] == 'Yes' and injury.Likelihood_of_Injury[i] == 'Yes':\n",
    "        prev_inj[0] += 1\n",
    "    elif injury.Previous_Injuries[i] == 'Yes' and injury.Likelihood_of_Injury[i] == 'No':\n",
    "        prev_inj[1] += 1\n",
    "    elif injury.Previous_Injuries[i] == 'No' and injury.Likelihood_of_Injury[i] == 'Yes':\n",
    "        no_prev_inj[0] += 1\n",
    "    elif injury.Previous_Injuries[i] == 'No' and injury.Likelihood_of_Injury[i] == 'No':\n",
    "        no_prev_inj[1] += 1"
   ]
  },
  {
   "cell_type": "code",
   "execution_count": 223,
   "id": "53fec277",
   "metadata": {
    "scrolled": true
   },
   "outputs": [
    {
     "data": {
      "text/plain": [
       "Chi2ContingencyResult(statistic=1.297167450705635, pvalue=0.2547312702283598, dof=1, expected_freq=array([[257.5, 257.5],\n",
       "       [242.5, 242.5]]))"
      ]
     },
     "execution_count": 223,
     "metadata": {},
     "output_type": "execute_result"
    }
   ],
   "source": [
    "# Performing chi2_contingency\n",
    "contingency2 = [prev_inj,\n",
    "               no_prev_inj]\n",
    "chi2_contingency(contingency2)"
   ]
  },
  {
   "cell_type": "markdown",
   "id": "a1934313",
   "metadata": {},
   "source": [
    "The results from the chi-squared test returns many values, the second value which is 0.254 is the p-value. The standard p-value to test statistical significance is 0.05. For the value retrieved from this test, the value of 0.254 is larger than 0.05. In the case of previous injuries and likelihood of injury, there doesn't seem to be any significant relationship between them i.e. the variables independent. This means that we can accept the null hypothesis which states that 'players with previous injuries are not likely to have further injuries'."
   ]
  },
  {
   "cell_type": "markdown",
   "id": "51e24cfb",
   "metadata": {},
   "source": [
    "## Data Question 3: How do previous injuries affect recovery time?"
   ]
  },
  {
   "cell_type": "code",
   "execution_count": 224,
   "id": "0d72e00c",
   "metadata": {},
   "outputs": [],
   "source": [
    "# Dataframe for previous injuries and no previous injuries\n",
    "prev_inj = injury[injury['Previous_Injuries'] ==  'Yes'].Recovery_Time.value_counts().reset_index(name = 'Count')\n",
    "no_prev_inj = injury[injury['Previous_Injuries'] ==  'No'].Recovery_Time.value_counts().reset_index(name = 'Count')"
   ]
  },
  {
   "cell_type": "code",
   "execution_count": 225,
   "id": "4fd126d1",
   "metadata": {},
   "outputs": [
    {
     "data": {
      "image/png": "[encoded data removed]",
      "text/plain": [
       "<Figure size 1100x400 with 2 Axes>"
      ]
     },
     "metadata": {},
     "output_type": "display_data"
    }
   ],
   "source": [
    "# Plotting bar charts for previous injuries and no previous injuries\n",
    "fig = plt.figure(facecolor = 'aliceblue', figsize = (11, 4))\n",
    "fig.suptitle(\"Recovery Times of Players With and Without \\nPrevious Injuries\", fontsize = 14, y = 1.08)\n",
    "plt.subplots_adjust(wspace=0.3, hspace=0.6)\n",
    "\n",
    "plt.subplot(1,2,1)\n",
    "ax1 = sns.barplot(data = prev_inj, y = 'Count', x = 'Recovery_Time', palette = sns.color_palette(\"crest\"))\n",
    "plt.title('Previous Injuries')\n",
    "plt.xlabel('Recovery Time (days)')\n",
    "plt.ylabel('Frequency')\n",
    "plt.ylim(0, 110)\n",
    "ax1.bar_label(ax1.containers[0])\n",
    "\n",
    "plt.subplot(1,2,2)\n",
    "ax2 = sns.barplot(data = no_prev_inj, y = 'Count', x = 'Recovery_Time', palette = sns.color_palette(\"crest\"))\n",
    "plt.title('No Previous Injuries')\n",
    "plt.xlabel('Recovery Time (days)')\n",
    "plt.ylabel('Frequency')\n",
    "plt.ylim(0, 110)\n",
    "ax2.bar_label(ax2.containers[0])\n",
    "plt.show()"
   ]
  },
  {
   "cell_type": "markdown",
   "id": "4d10c0b4",
   "metadata": {},
   "source": [
    "For players with and without previous injuries, the trend seems to be the same. Majority of players will recover in 2 days regardless of previous injuries. However, if they do not recover within that time period, it will take them at least 4 days to 6 days. Both graphs indicate that players are less likely recovery in 3 days regardless of previous injuries. "
   ]
  },
  {
   "cell_type": "markdown",
   "id": "64a9c73d",
   "metadata": {},
   "source": [
    "## Data Question 4: Are players with high intensity training more likely to have further injuries?"
   ]
  },
  {
   "cell_type": "code",
   "execution_count": 226,
   "id": "ae9bafa1",
   "metadata": {},
   "outputs": [
    {
     "data": {
      "image/png": "[encoded data removed]",
      "text/plain": [
       "<Figure size 640x480 with 1 Axes>"
      ]
     },
     "metadata": {},
     "output_type": "display_data"
    }
   ],
   "source": [
    "# Plotting distribution of training intensity\n",
    "sns.histplot(data = injury, x = 'Training_Intensity')\n",
    "plt.title('Distribution of Training Intensity')\n",
    "plt.xlabel('Training Intensity (%)')\n",
    "plt.ylabel('Frequency')\n",
    "plt.show()"
   ]
  },
  {
   "cell_type": "markdown",
   "id": "3e2441be",
   "metadata": {},
   "source": [
    "The distribution graph for training intensity peaks at 40% and 60% at around 120 players each. Training intensity tends to decrease in numbers from 0 to 30%. Around 70 to 90%, it fluctuates between 80 to 90 players."
   ]
  },
  {
   "cell_type": "code",
   "execution_count": 227,
   "id": "4a7e755f",
   "metadata": {},
   "outputs": [
    {
     "data": {
      "image/png": "[encoded data removed]",
      "text/plain": [
       "<Figure size 640x480 with 1 Axes>"
      ]
     },
     "metadata": {},
     "output_type": "display_data"
    }
   ],
   "source": [
    "sns.boxplot(data = injury, x = 'Likelihood_of_Injury', y = 'Training_Intensity', palette= {'Yes':'royalblue', 'No':'palegreen'})\n",
    "plt.title('Box-plot of Training Intensity and Likelihood of Injury')\n",
    "plt.xlabel('Likelihood of Injury')\n",
    "plt.ylabel('Training Intensity (%)')\n",
    "plt.show()"
   ]
  },
  {
   "cell_type": "markdown",
   "id": "78ba73a1",
   "metadata": {},
   "source": [
    "Players that are more likely to have further injury seem to have a higher average training intensity, approximately 58% compared to players that are less likely to injure (~42%). The upper quartile and lower quartile of players with a likelihood of injury is also higher. This indicates that an increase in training intensity could potentially lead to further injuries. However, the difference in training intensity is not significant."
   ]
  },
  {
   "cell_type": "markdown",
   "id": "139dc9e5",
   "metadata": {},
   "source": [
    "## Conclusion "
   ]
  },
  {
   "cell_type": "markdown",
   "id": "7ea69ba0",
   "metadata": {},
   "source": [
    "This project highlights the different factors of players that could affect their recovery time and the likelihood of injuries. It was found that there is no significant correlation between age and recover time, between ages of 18 and 39. It was also found that the relationship between previous injuries and likelihood of further injury is not significantly different which means that players with a previous injury does not increase the likelihood of injury. Another finding was that most players with injuries recover in 2 days or within 4 to 6 days regardless of any prior injuries. Lastly, it was demonstrated that players that perform higher intensity training on average (~58%) are more likely to injure. "
   ]
  }
 ],
 "metadata": {
  "kernelspec": {
   "display_name": "Python 3 (ipykernel)",
   "language": "python",
   "name": "python3"
  },
  "language_info": {
   "codemirror_mode": {
    "name": "ipython",
    "version": 3
   },
   "file_extension": ".py",
   "mimetype": "text/x-python",
   "name": "python",
   "nbconvert_exporter": "python",
   "pygments_lexer": "ipython3",
   "version": "3.10.14"
  }
 },
 "nbformat": 4,
 "nbformat_minor": 5
}
